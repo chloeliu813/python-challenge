{
 "cells": [
  {
   "cell_type": "code",
   "execution_count": 119,
   "metadata": {},
   "outputs": [
    {
     "data": {
      "text/html": [
       "<div>\n",
       "<style scoped>\n",
       "    .dataframe tbody tr th:only-of-type {\n",
       "        vertical-align: middle;\n",
       "    }\n",
       "\n",
       "    .dataframe tbody tr th {\n",
       "        vertical-align: top;\n",
       "    }\n",
       "\n",
       "    .dataframe thead th {\n",
       "        text-align: right;\n",
       "    }\n",
       "</style>\n",
       "<table border=\"1\" class=\"dataframe\">\n",
       "  <thead>\n",
       "    <tr style=\"text-align: right;\">\n",
       "      <th></th>\n",
       "      <th>Voter ID</th>\n",
       "      <th>County</th>\n",
       "      <th>Candidate</th>\n",
       "    </tr>\n",
       "  </thead>\n",
       "  <tbody>\n",
       "    <tr>\n",
       "      <th>0</th>\n",
       "      <td>12864552</td>\n",
       "      <td>Marsh</td>\n",
       "      <td>Khan</td>\n",
       "    </tr>\n",
       "    <tr>\n",
       "      <th>1</th>\n",
       "      <td>17444633</td>\n",
       "      <td>Marsh</td>\n",
       "      <td>Correy</td>\n",
       "    </tr>\n",
       "    <tr>\n",
       "      <th>2</th>\n",
       "      <td>19330107</td>\n",
       "      <td>Marsh</td>\n",
       "      <td>Khan</td>\n",
       "    </tr>\n",
       "    <tr>\n",
       "      <th>3</th>\n",
       "      <td>19865775</td>\n",
       "      <td>Queen</td>\n",
       "      <td>Khan</td>\n",
       "    </tr>\n",
       "    <tr>\n",
       "      <th>4</th>\n",
       "      <td>11927875</td>\n",
       "      <td>Marsh</td>\n",
       "      <td>Khan</td>\n",
       "    </tr>\n",
       "  </tbody>\n",
       "</table>\n",
       "</div>"
      ],
      "text/plain": [
       "   Voter ID County Candidate\n",
       "0  12864552  Marsh      Khan\n",
       "1  17444633  Marsh    Correy\n",
       "2  19330107  Marsh      Khan\n",
       "3  19865775  Queen      Khan\n",
       "4  11927875  Marsh      Khan"
      ]
     },
     "execution_count": 119,
     "metadata": {},
     "output_type": "execute_result"
    }
   ],
   "source": [
    "import pandas as pd\n",
    "import csv\n",
    "import numpy as ny\n",
    "\n",
    "file = \"Resources/election_data.csv\"\n",
    "df_orig = pd.read_csv(file, delimiter = ',')\n",
    "df_orig.head()\n",
    "\n"
   ]
  },
  {
   "cell_type": "code",
   "execution_count": 120,
   "metadata": {},
   "outputs": [
    {
     "data": {
      "text/html": [
       "<div>\n",
       "<style scoped>\n",
       "    .dataframe tbody tr th:only-of-type {\n",
       "        vertical-align: middle;\n",
       "    }\n",
       "\n",
       "    .dataframe tbody tr th {\n",
       "        vertical-align: top;\n",
       "    }\n",
       "\n",
       "    .dataframe thead th {\n",
       "        text-align: right;\n",
       "    }\n",
       "</style>\n",
       "<table border=\"1\" class=\"dataframe\">\n",
       "  <thead>\n",
       "    <tr style=\"text-align: right;\">\n",
       "      <th></th>\n",
       "      <th>Total Number of Votes</th>\n",
       "    </tr>\n",
       "  </thead>\n",
       "  <tbody>\n",
       "    <tr>\n",
       "      <th>0</th>\n",
       "      <td>3521001</td>\n",
       "    </tr>\n",
       "  </tbody>\n",
       "</table>\n",
       "</div>"
      ],
      "text/plain": [
       "   Total Number of Votes\n",
       "0                3521001"
      ]
     },
     "execution_count": 120,
     "metadata": {},
     "output_type": "execute_result"
    }
   ],
   "source": [
    "#The total number of votes cast\n",
    "A_Votes = df_orig['Voter ID'].count()\n",
    "A_votes2 = A_Votes.astype('int32')\n",
    "\n",
    "Summery_Votes = pd.DataFrame({\"Total Number of Votes\": [A_votes2]})\n",
    "Summery_Votes"
   ]
  },
  {
   "cell_type": "code",
   "execution_count": 121,
   "metadata": {},
   "outputs": [],
   "source": [
    "#A complete list of candidates who received votes\n",
    "B_Grouped = df_orig.groupby(['Candidate'])\n",
    "B_Count = B_Grouped['Voter ID'].count()\n",
    "Summery_Count = pd.DataFrame({\"Candidates who got votes\":[B_Count]})"
   ]
  },
  {
   "cell_type": "code",
   "execution_count": 122,
   "metadata": {},
   "outputs": [
    {
     "data": {
      "text/html": [
       "<div>\n",
       "<style scoped>\n",
       "    .dataframe tbody tr th:only-of-type {\n",
       "        vertical-align: middle;\n",
       "    }\n",
       "\n",
       "    .dataframe tbody tr th {\n",
       "        vertical-align: top;\n",
       "    }\n",
       "\n",
       "    .dataframe thead th {\n",
       "        text-align: right;\n",
       "    }\n",
       "</style>\n",
       "<table border=\"1\" class=\"dataframe\">\n",
       "  <thead>\n",
       "    <tr style=\"text-align: right;\">\n",
       "      <th></th>\n",
       "      <th>Number of Votes</th>\n",
       "      <th>Percentage</th>\n",
       "    </tr>\n",
       "    <tr>\n",
       "      <th>Candidate</th>\n",
       "      <th></th>\n",
       "      <th></th>\n",
       "    </tr>\n",
       "  </thead>\n",
       "  <tbody>\n",
       "    <tr>\n",
       "      <th>Correy</th>\n",
       "      <td>704200</td>\n",
       "      <td>19.999994</td>\n",
       "    </tr>\n",
       "    <tr>\n",
       "      <th>Khan</th>\n",
       "      <td>2218231</td>\n",
       "      <td>63.000011</td>\n",
       "    </tr>\n",
       "    <tr>\n",
       "      <th>Li</th>\n",
       "      <td>492940</td>\n",
       "      <td>13.999996</td>\n",
       "    </tr>\n",
       "    <tr>\n",
       "      <th>O'Tooley</th>\n",
       "      <td>105630</td>\n",
       "      <td>2.999999</td>\n",
       "    </tr>\n",
       "  </tbody>\n",
       "</table>\n",
       "</div>"
      ],
      "text/plain": [
       "           Number of Votes  Percentage\n",
       "Candidate                             \n",
       "Correy              704200   19.999994\n",
       "Khan               2218231   63.000011\n",
       "Li                  492940   13.999996\n",
       "O'Tooley            105630    2.999999"
      ]
     },
     "execution_count": 122,
     "metadata": {},
     "output_type": "execute_result"
    }
   ],
   "source": [
    "#The percentage of votes each candidate won\n",
    "Sum = A_Votes\n",
    "\n",
    "\n",
    "# Creating a new DataFrame using both duration and count\n",
    "summary_table = pd.DataFrame({\"Number of Votes\": B_Count,\n",
    "                                    \"Percentage\": (B_Count/Sum) * 100})\n",
    "summary_table.head()"
   ]
  },
  {
   "cell_type": "code",
   "execution_count": 123,
   "metadata": {},
   "outputs": [
    {
     "data": {
      "text/plain": [
       "Number of Votes    2.218231e+06\n",
       "Percentage         6.300001e+01\n",
       "Name: Khan, dtype: float64"
      ]
     },
     "execution_count": 123,
     "metadata": {},
     "output_type": "execute_result"
    }
   ],
   "source": [
    "Winner = summary_table.loc[summary_table['Percentage'].idxmax()]\n",
    "Winner\n"
   ]
  },
  {
   "cell_type": "code",
   "execution_count": 124,
   "metadata": {},
   "outputs": [],
   "source": [
    "summary_table.to_csv(\"PyPoll_Answer.csv\")\n",
    "#do open cammand and add the others (with open command)\n",
    "\n",
    "#The total number of votes cast\n",
    "#A_votes\n",
    "\n",
    "#A complete list of candidates who received votes\n",
    "#The percentage of votes each candidate won\n",
    "#The total number of votes each candidate won\n",
    "#summary_table\n",
    "\n",
    "\n",
    "#The winner of the election based on popular vote.\n",
    "#Winner\n",
    "\n"
   ]
  },
  {
   "cell_type": "code",
   "execution_count": 125,
   "metadata": {},
   "outputs": [],
   "source": [
    "def write_and_print(file, text):\n",
    " file.write(text)\n",
    " print(text)\n",
    "    \n",
    "    \n",
    "# and here is an example of calling write_and_print\n",
    "with open(\"PyPoll_Answer.csv\", \"a\") as file:\n",
    "    file.write(\"\\n\\n The winner if the poll is\")  \n",
    "    Winner.to_csv(file, header=True)\n",
    "    \n",
    "    file.write(f\"\\n\\n The total number if votes is\")  \n",
    "    Summery_Votes.to_csv(file, header=True)\n",
    "    \n",
    "    file.write(f\"\\n\\n These are the candidates that got votes\")  \n",
    "    Summery_Count.to_csv(file,header=False)"
   ]
  },
  {
   "cell_type": "code",
   "execution_count": null,
   "metadata": {},
   "outputs": [],
   "source": []
  }
 ],
 "metadata": {
  "kernelspec": {
   "display_name": "Python 3",
   "language": "python",
   "name": "python3"
  },
  "language_info": {
   "codemirror_mode": {
    "name": "ipython",
    "version": 3
   },
   "file_extension": ".py",
   "mimetype": "text/x-python",
   "name": "python",
   "nbconvert_exporter": "python",
   "pygments_lexer": "ipython3",
   "version": "3.7.3"
  }
 },
 "nbformat": 4,
 "nbformat_minor": 2
}
