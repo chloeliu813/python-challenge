{
 "cells": [
  {
   "cell_type": "code",
   "execution_count": 20,
   "metadata": {},
   "outputs": [],
   "source": [
    "import pandas as pd\n",
    "import csv\n",
    "import numpy as np"
   ]
  },
  {
   "cell_type": "code",
   "execution_count": 21,
   "metadata": {},
   "outputs": [
    {
     "name": "stdout",
     "output_type": "stream",
     "text": [
      "Date\n",
      "Jan-2010\n",
      "Feb-2010\n",
      "Mar-2010\n",
      "Apr-2010\n",
      "May-2010\n",
      "Jun-2010\n",
      "Jul-2010\n",
      "Aug-2010\n",
      "Sep-2010\n",
      "Oct-2010\n",
      "Nov-2010\n",
      "Dec-2010\n",
      "Jan-2011\n",
      "Feb-2011\n",
      "Mar-2011\n",
      "Apr-2011\n",
      "May-2011\n",
      "Jun-2011\n",
      "Jul-2011\n",
      "Aug-2011\n",
      "Sep-2011\n",
      "Oct-2011\n",
      "Nov-2011\n",
      "Dec-2011\n",
      "Jan-2012\n",
      "Feb-2012\n",
      "Mar-2012\n",
      "Apr-2012\n",
      "May-2012\n",
      "Jun-2012\n",
      "Jul-2012\n",
      "Aug-2012\n",
      "Sep-2012\n",
      "Oct-2012\n",
      "Nov-2012\n",
      "Dec-2012\n",
      "Jan-2013\n",
      "Feb-2013\n",
      "Mar-2013\n",
      "Apr-2013\n",
      "May-2013\n",
      "Jun-2013\n",
      "Jul-2013\n",
      "Aug-2013\n",
      "Sep-2013\n",
      "Oct-2013\n",
      "Nov-2013\n",
      "Dec-2013\n",
      "Jan-2014\n",
      "Feb-2014\n",
      "Mar-2014\n",
      "Apr-2014\n",
      "May-2014\n",
      "Jun-2014\n",
      "Jul-2014\n",
      "Aug-2014\n",
      "Sep-2014\n",
      "Oct-2014\n",
      "Nov-2014\n",
      "Dec-2014\n",
      "Jan-2015\n",
      "Feb-2015\n",
      "Mar-2015\n",
      "Apr-2015\n",
      "May-2015\n",
      "Jun-2015\n",
      "Jul-2015\n",
      "Aug-2015\n",
      "Sep-2015\n",
      "Oct-2015\n",
      "Nov-2015\n",
      "Dec-2015\n",
      "Jan-2016\n",
      "Feb-2016\n",
      "Mar-2016\n",
      "Apr-2016\n",
      "May-2016\n",
      "Jun-2016\n",
      "Jul-2016\n",
      "Aug-2016\n",
      "Sep-2016\n",
      "Oct-2016\n",
      "Nov-2016\n",
      "Dec-2016\n",
      "Jan-2017\n",
      "Feb-2017\n"
     ]
    },
    {
     "ename": "AttributeError",
     "evalue": "'str' object has no attribute 'head'",
     "output_type": "error",
     "traceback": [
      "\u001b[0;31m---------------------------------------------------------------------------\u001b[0m",
      "\u001b[0;31mAttributeError\u001b[0m                            Traceback (most recent call last)",
      "\u001b[0;32m<ipython-input-21-61e7885560e8>\u001b[0m in \u001b[0;36m<module>\u001b[0;34m\u001b[0m\n\u001b[1;32m      7\u001b[0m           \u001b[0mprint\u001b[0m\u001b[0;34m(\u001b[0m\u001b[0mrow\u001b[0m\u001b[0;34m[\u001b[0m\u001b[0;36m0\u001b[0m\u001b[0;34m]\u001b[0m\u001b[0;34m)\u001b[0m\u001b[0;34m\u001b[0m\u001b[0;34m\u001b[0m\u001b[0m\n\u001b[1;32m      8\u001b[0m \u001b[0;34m\u001b[0m\u001b[0m\n\u001b[0;32m----> 9\u001b[0;31m \u001b[0mfile\u001b[0m\u001b[0;34m.\u001b[0m\u001b[0mhead\u001b[0m\u001b[0;34m(\u001b[0m\u001b[0;34m)\u001b[0m\u001b[0;34m\u001b[0m\u001b[0;34m\u001b[0m\u001b[0m\n\u001b[0m",
      "\u001b[0;31mAttributeError\u001b[0m: 'str' object has no attribute 'head'"
     ]
    }
   ],
   "source": [
    "file = \"budget_data.csv\"\n",
    "\n",
    "with open(file,newline='') as csvfile:\n",
    "     csvreader = csv.reader(csvfile)\n",
    "    \n",
    "     for row in csvreader:\n",
    "          print(row[0])\n",
    "\n",
    "file.head()\n"
   ]
  },
  {
   "cell_type": "code",
   "execution_count": 22,
   "metadata": {},
   "outputs": [
    {
     "data": {
      "text/html": [
       "<div>\n",
       "<style scoped>\n",
       "    .dataframe tbody tr th:only-of-type {\n",
       "        vertical-align: middle;\n",
       "    }\n",
       "\n",
       "    .dataframe tbody tr th {\n",
       "        vertical-align: top;\n",
       "    }\n",
       "\n",
       "    .dataframe thead th {\n",
       "        text-align: right;\n",
       "    }\n",
       "</style>\n",
       "<table border=\"1\" class=\"dataframe\">\n",
       "  <thead>\n",
       "    <tr style=\"text-align: right;\">\n",
       "      <th></th>\n",
       "      <th>Date</th>\n",
       "      <th>Profit/Losses</th>\n",
       "    </tr>\n",
       "  </thead>\n",
       "  <tbody>\n",
       "    <tr>\n",
       "      <th>0</th>\n",
       "      <td>Jan-2010</td>\n",
       "      <td>867884</td>\n",
       "    </tr>\n",
       "    <tr>\n",
       "      <th>1</th>\n",
       "      <td>Feb-2010</td>\n",
       "      <td>984655</td>\n",
       "    </tr>\n",
       "    <tr>\n",
       "      <th>2</th>\n",
       "      <td>Mar-2010</td>\n",
       "      <td>322013</td>\n",
       "    </tr>\n",
       "    <tr>\n",
       "      <th>3</th>\n",
       "      <td>Apr-2010</td>\n",
       "      <td>-69417</td>\n",
       "    </tr>\n",
       "    <tr>\n",
       "      <th>4</th>\n",
       "      <td>May-2010</td>\n",
       "      <td>310503</td>\n",
       "    </tr>\n",
       "  </tbody>\n",
       "</table>\n",
       "</div>"
      ],
      "text/plain": [
       "       Date  Profit/Losses\n",
       "0  Jan-2010         867884\n",
       "1  Feb-2010         984655\n",
       "2  Mar-2010         322013\n",
       "3  Apr-2010         -69417\n",
       "4  May-2010         310503"
      ]
     },
     "execution_count": 22,
     "metadata": {},
     "output_type": "execute_result"
    }
   ],
   "source": [
    "    \n",
    "df_orig = pd.read_csv(file, delimiter = ',')\n",
    "df_orig.head()"
   ]
  },
  {
   "cell_type": "code",
   "execution_count": 38,
   "metadata": {},
   "outputs": [
    {
     "data": {
      "text/plain": [
       "'86'"
      ]
     },
     "execution_count": 38,
     "metadata": {},
     "output_type": "execute_result"
    }
   ],
   "source": [
    "#The total number of months included in the dataset\n",
    "A_Months = df_orig['Date'].count()\n",
    "B = int(A_Months)\n"
   ]
  },
  {
   "cell_type": "code",
   "execution_count": 23,
   "metadata": {},
   "outputs": [
    {
     "name": "stdout",
     "output_type": "stream",
     "text": [
      "38382578\n"
     ]
    }
   ],
   "source": [
    "#The net total amount of \"Profit/Losses\" over the entire period\n",
    "B_ProfitLoss = df_orig['Profit/Losses'].sum()\n",
    "print(B_ProfitLoss)"
   ]
  },
  {
   "cell_type": "code",
   "execution_count": null,
   "metadata": {},
   "outputs": [],
   "source": [
    "#make a new column for change from previous number\n"
   ]
  },
  {
   "cell_type": "code",
   "execution_count": 24,
   "metadata": {},
   "outputs": [
    {
     "name": "stdout",
     "output_type": "stream",
     "text": [
      "446309.0465116279\n"
     ]
    }
   ],
   "source": [
    "# The average of the changes in \"Profit/Losses\" over the entire period\n",
    "def average(numbers):\n",
    "    length = len(numbers)\n",
    "    total = 0\n",
    "    for number in numbers:\n",
    "        total += number\n",
    "    return total/length\n",
    "\n",
    "print(average(df_orig['Profit/Losses']))"
   ]
  },
  {
   "cell_type": "code",
   "execution_count": 25,
   "metadata": {},
   "outputs": [
    {
     "name": "stdout",
     "output_type": "stream",
     "text": [
      "Date             Feb-2012\n",
      "Profit/Losses     1170593\n",
      "Name: 25, dtype: object\n"
     ]
    }
   ],
   "source": [
    "#The greatest increase in profits (date and amount) over the entire period\n",
    "D_Max = df_orig.loc[df_orig['Profit/Losses'].idxmax()]\n",
    "print(D_Max)"
   ]
  },
  {
   "cell_type": "code",
   "execution_count": 26,
   "metadata": {},
   "outputs": [
    {
     "name": "stdout",
     "output_type": "stream",
     "text": [
      "Date             Sep-2013\n",
      "Profit/Losses    -1196225\n",
      "Name: 44, dtype: object\n"
     ]
    }
   ],
   "source": [
    "#The greatest decrease in losses (date and amount) over the entire period\n",
    "E_Min = df_orig.loc[df_orig['Profit/Losses'].idxmin()]\n",
    "print(E_Min)\n"
   ]
  },
  {
   "cell_type": "code",
   "execution_count": 45,
   "metadata": {},
   "outputs": [],
   "source": [
    "\n",
    "answer1 = pd.DataFrame({\"Total Months\": [B], \"Total\":[B_ProfitLoss]})\n",
    "answer2 = pd.DataFrame({\"Greatest increase in profits\": [D_Max]})\n",
    "answer3 = pd.DataFrame({\"Greatest decrease in losses\": [E_Min]}) \n",
    "\n",
    "#output_file = open(\"PyBank_Output.txt\", \"w\")\n",
    "\n",
    "with open(\"PyBank_Output.txt\", \"a\") as file:\n",
    "    file.write(\"\\n Chloe's Answers \\n\\n\")\n",
    "    answer1.to_csv(file,header=True)\n",
    "    file.write(\"\\n\\n\")\n",
    "    answer2.to_csv(file,header=True)\n",
    "    file.write(\"\\n\\n\")\n",
    "    answer3.to_csv(file,header=True)\n",
    " #   B.to_csv(file,header=False)"
   ]
  },
  {
   "cell_type": "code",
   "execution_count": null,
   "metadata": {},
   "outputs": [],
   "source": []
  }
 ],
 "metadata": {
  "kernelspec": {
   "display_name": "Python 3",
   "language": "python",
   "name": "python3"
  },
  "language_info": {
   "codemirror_mode": {
    "name": "ipython",
    "version": 3
   },
   "file_extension": ".py",
   "mimetype": "text/x-python",
   "name": "python",
   "nbconvert_exporter": "python",
   "pygments_lexer": "ipython3",
   "version": "3.7.3"
  }
 },
 "nbformat": 4,
 "nbformat_minor": 2
}
